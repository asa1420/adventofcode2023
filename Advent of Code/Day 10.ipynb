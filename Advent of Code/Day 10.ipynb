{
 "cells": [
  {
   "cell_type": "markdown",
   "metadata": {},
   "source": [
    "# Part 1"
   ]
  },
  {
   "cell_type": "code",
   "execution_count": 13,
   "metadata": {},
   "outputs": [],
   "source": [
    "f = open(\"Day 10 input.txt\", \"r\")"
   ]
  },
  {
   "cell_type": "code",
   "execution_count": 4,
   "metadata": {},
   "outputs": [
    {
     "data": {
      "text/plain": [
       "''"
      ]
     },
     "execution_count": 4,
     "metadata": {},
     "output_type": "execute_result"
    }
   ],
   "source": [
    "f.read()"
   ]
  },
  {
   "cell_type": "code",
   "execution_count": 14,
   "metadata": {},
   "outputs": [],
   "source": [
    "data = []\n",
    "for line in f:\n",
    "    line = line.strip(\"\\n\")\n",
    "    data.append(line)"
   ]
  },
  {
   "cell_type": "code",
   "execution_count": 33,
   "metadata": {},
   "outputs": [
    {
     "data": {
      "text/plain": [
       "140"
      ]
     },
     "execution_count": 33,
     "metadata": {},
     "output_type": "execute_result"
    }
   ],
   "source": [
    "len(data[0]) # grid is 140 by 140\n",
    "# to use at edges"
   ]
  },
  {
   "cell_type": "code",
   "execution_count": 22,
   "metadata": {},
   "outputs": [
    {
     "data": {
      "text/plain": [
       "'7'"
      ]
     },
     "execution_count": 22,
     "metadata": {},
     "output_type": "execute_result"
    }
   ],
   "source": [
    "# We need to figure out the routes for each element in the grid (e.g. if element is J, it can go up or left)\n",
    "# then we start from S and go all the way back to S\n",
    "# count how many elements and divide by 2, that's the answer"
   ]
  },
  {
   "cell_type": "code",
   "execution_count": 44,
   "metadata": {},
   "outputs": [
    {
     "data": {
      "text/plain": [
       "['.....', '.S-7.', '.|.|.', '.L-J.', '.....']"
      ]
     },
     "execution_count": 44,
     "metadata": {},
     "output_type": "execute_result"
    }
   ],
   "source": [
    "# use test data first:\n",
    "test = []\n",
    "test.append('.....')\n",
    "test.append('.S-7.')\n",
    "test.append('.|.|.')\n",
    "test.append('.L-J.')\n",
    "test.append('.....')\n",
    "test"
   ]
  },
  {
   "cell_type": "code",
   "execution_count": 80,
   "metadata": {},
   "outputs": [],
   "source": [
    "def direction_map(element): # cannot use match-case in python 3.9\n",
    "    if element =='|':\n",
    "            return ['up','down']\n",
    "    if element =='-':\n",
    "            return ['left','right']        \n",
    "    if element =='L': \n",
    "            return ['up','right']\n",
    "    if element =='J': \n",
    "            return ['up','left']\n",
    "    if element =='7': \n",
    "            return ['left','down']\n",
    "    if element =='F':\n",
    "            return ['right','down']\n",
    "    if element =='.': \n",
    "            return []\n",
    "\n",
    "flip_direction = {\n",
    "    \"up\": \"down\",\n",
    "    \"down\": \"up\",\n",
    "    \"left\": \"right\",\n",
    "    \"right\": \"left\",\n",
    "}\n",
    "def where_to_go(element, y, x, source_direction): # source direction must be passed correctly, which it will\n",
    "    possible_destinations = direction_map(element)\n",
    "    incoming_direction = flip_direction[source_direction]\n",
    "    for direction in possible_destinations:\n",
    "           if direction != incoming_direction:\n",
    "                  y, x = translate_direction(direction, y, x)\n",
    "                  return (direction, y, x)\n",
    "def translate_direction(direction, y, x):\n",
    "       if direction == 'up':\n",
    "              return y-1, x\n",
    "       elif direction == 'down':\n",
    "              return y+1, x\n",
    "       elif direction == 'left':\n",
    "              return y, x-1\n",
    "       elif direction == 'right':\n",
    "              return y, x+1\n"
   ]
  },
  {
   "cell_type": "code",
   "execution_count": 110,
   "metadata": {},
   "outputs": [
    {
     "name": "stdout",
     "output_type": "stream",
     "text": [
      "4.0\n"
     ]
    }
   ],
   "source": [
    "y = 1\n",
    "x = 2\n",
    "direction = 'right'\n",
    "current = test[y][x]\n",
    "count = 1\n",
    "while current != 'S':\n",
    "    direction, y, x = where_to_go(current, y, x, direction)\n",
    "    current = test[y][x]\n",
    "    #print(current)\n",
    "    count += 1\n",
    "print (count/2) # correct on test input"
   ]
  },
  {
   "cell_type": "code",
   "execution_count": 107,
   "metadata": {},
   "outputs": [
    {
     "data": {
      "text/plain": [
       "1"
      ]
     },
     "execution_count": 107,
     "metadata": {},
     "output_type": "execute_result"
    }
   ],
   "source": [
    "test[1].index('S')"
   ]
  },
  {
   "cell_type": "code",
   "execution_count": 112,
   "metadata": {},
   "outputs": [
    {
     "name": "stdout",
     "output_type": "stream",
     "text": [
      "(1, 1)\n"
     ]
    }
   ],
   "source": [
    "def find_element_index(list, target):\n",
    "  for i, row in enumerate(list):\n",
    "    for j, element in enumerate(row):\n",
    "      if element == target:\n",
    "        return (i, j)\n",
    "  return None\n",
    "print(find_element_index(test, 'S'))"
   ]
  },
  {
   "cell_type": "code",
   "execution_count": 115,
   "metadata": {},
   "outputs": [
    {
     "name": "stdout",
     "output_type": "stream",
     "text": [
      "S\n",
      "-\n",
      "7\n",
      "|\n",
      "J\n",
      "-\n",
      "L\n",
      "|\n",
      "S\n",
      "4.0\n"
     ]
    }
   ],
   "source": [
    "direction = 'right'\n",
    "count = 0\n",
    "y, x = find_element_index(test, 'S') # added finding S\n",
    "current = test[y][x]\n",
    "print(current)\n",
    "x += 1\n",
    "current = test[y][x]\n",
    "print(current)\n",
    "count += 1\n",
    "while current != 'S':\n",
    "    direction, y, x = where_to_go(current, y, x, direction)\n",
    "    current = test[y][x]\n",
    "    print(current)\n",
    "    count += 1\n",
    "print (count/2) # correct on test input"
   ]
  },
  {
   "cell_type": "code",
   "execution_count": 119,
   "metadata": {},
   "outputs": [
    {
     "name": "stdout",
     "output_type": "stream",
     "text": [
      "6828.0\n"
     ]
    }
   ],
   "source": [
    "direction = 'up'\n",
    "count = 0\n",
    "y, x = find_element_index(data, 'S') # added finding S\n",
    "current = data[y][x]\n",
    "#print(current)\n",
    "y -= 1\n",
    "current = data[y][x]\n",
    "#print(current)\n",
    "count += 1\n",
    "while current != 'S':\n",
    "    direction, y, x = where_to_go(current, y, x, direction)\n",
    "    current = data[y][x]\n",
    "    #print(current)\n",
    "    count += 1\n",
    "print (count/2) # correct!"
   ]
  },
  {
   "cell_type": "markdown",
   "metadata": {},
   "source": [
    "# Part 2"
   ]
  }
 ],
 "metadata": {
  "kernelspec": {
   "display_name": "base",
   "language": "python",
   "name": "python3"
  },
  "language_info": {
   "codemirror_mode": {
    "name": "ipython",
    "version": 3
   },
   "file_extension": ".py",
   "mimetype": "text/x-python",
   "name": "python",
   "nbconvert_exporter": "python",
   "pygments_lexer": "ipython3",
   "version": "3.9.13"
  }
 },
 "nbformat": 4,
 "nbformat_minor": 2
}

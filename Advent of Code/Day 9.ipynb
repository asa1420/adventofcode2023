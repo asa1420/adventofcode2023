{
 "cells": [
  {
   "cell_type": "code",
   "execution_count": null,
   "metadata": {},
   "outputs": [],
   "source": [
    "import"
   ]
  },
  {
   "cell_type": "code",
   "execution_count": 178,
   "metadata": {},
   "outputs": [],
   "source": [
    "f = open(\"Day 9 input.txt\", \"r\")"
   ]
  },
  {
   "cell_type": "code",
   "execution_count": null,
   "metadata": {},
   "outputs": [],
   "source": [
    "print(f.read())"
   ]
  },
  {
   "cell_type": "code",
   "execution_count": 179,
   "metadata": {},
   "outputs": [],
   "source": [
    "data = []\n",
    "for line in f:\n",
    "    # Split each line\n",
    "    row_data = [int(num) for num in line.strip().split()]\n",
    "    data.append(row_data)"
   ]
  },
  {
   "cell_type": "code",
   "execution_count": 186,
   "metadata": {},
   "outputs": [
    {
     "name": "stdout",
     "output_type": "stream",
     "text": [
      "[-5, -11, -21, -35, -53, -75, -101, -131, -165, -203, -245, -291, -341, -395, -453, -515, -581, -651, -725, -803, -885]\n"
     ]
    }
   ],
   "source": [
    "print(data[-1])"
   ]
  },
  {
   "cell_type": "code",
   "execution_count": 185,
   "metadata": {},
   "outputs": [
    {
     "data": {
      "text/plain": [
       "True"
      ]
     },
     "execution_count": 185,
     "metadata": {},
     "output_type": "execute_result"
    }
   ],
   "source": [
    "all(len(i) == 21 for i in data) # confirming that each row has 21 numbers"
   ]
  },
  {
   "cell_type": "code",
   "execution_count": 161,
   "metadata": {},
   "outputs": [],
   "source": [
    "# for each row in data, call a function on it, which does the difference calc, and make it recursive until it reaches 0000\n",
    "# then find the new numbers from 0000 up to the main row\n",
    "# then just sum all those numbers\n",
    "def calc_difference(row): # it works\n",
    "    diff = []\n",
    "    for i in range(len(row) - 1):\n",
    "        diff.append(row[i+1] - row[i])\n",
    "    return diff\n",
    "\n",
    "def recursive(row): # it works\n",
    "    triangle = []\n",
    "    triangle.append(row)\n",
    "    new_row = row\n",
    "    while  not all(i == 0 for i in new_row):\n",
    "        new_row = calc_difference(new_row)\n",
    "        triangle.append(new_row)\n",
    "    return add_points(triangle)\n",
    "# now add the new data points at the end\n",
    "def add_points(triangle): # it works to get the new point\n",
    "    for i in range(-1, -len(triangle), -1):\n",
    "        triangle[i-1].append(triangle[i][-1]+triangle[i-1][-1])\n",
    "    return triangle[0][-1]"
   ]
  },
  {
   "cell_type": "code",
   "execution_count": 162,
   "metadata": {},
   "outputs": [
    {
     "data": {
      "text/plain": [
       "1934898178"
      ]
     },
     "execution_count": 162,
     "metadata": {},
     "output_type": "execute_result"
    }
   ],
   "source": [
    "x = 0\n",
    "for row in data:\n",
    "    x += recursive(row)\n",
    "x # CORRECT!"
   ]
  },
  {
   "cell_type": "code",
   "execution_count": null,
   "metadata": {},
   "outputs": [],
   "source": [
    "check = []\n",
    "for row in data:\n",
    "    check.append(all(x == 0 for x in recursive(row)[-1]))\n",
    "print(all(y for y in check)) # all rows have [0,0,0,0]"
   ]
  },
  {
   "cell_type": "markdown",
   "metadata": {},
   "source": [
    "# Part 2"
   ]
  },
  {
   "cell_type": "code",
   "execution_count": 184,
   "metadata": {},
   "outputs": [
    {
     "name": "stdout",
     "output_type": "stream",
     "text": [
      "5\n"
     ]
    }
   ],
   "source": [
    "# now instead of extrapolating forward, we do it backwards.\n",
    "def recursive_2(row): # it works\n",
    "    triangle = []\n",
    "    triangle.append(row)\n",
    "    new_row = row\n",
    "    while  not all(i == 0 for i in new_row):\n",
    "        new_row = calc_difference(new_row)\n",
    "        triangle.append(new_row)\n",
    "    return add_points_2(triangle)\n",
    "# now add the new data points at start\n",
    "def add_points_2(triangle): # it works to get the new point\n",
    "    for i in range(-1, -len(triangle), -1):\n",
    "        triangle[i-1].insert(0,triangle[i-1][0] - triangle[i][0])\n",
    "    return triangle[0][0]\n",
    "print(recursive_2([10,13,16,21,30,45]))"
   ]
  },
  {
   "cell_type": "code",
   "execution_count": 187,
   "metadata": {},
   "outputs": [
    {
     "data": {
      "text/plain": [
       "1129"
      ]
     },
     "execution_count": 187,
     "metadata": {},
     "output_type": "execute_result"
    }
   ],
   "source": [
    "z = 0\n",
    "for row in data:\n",
    "    z += recursive_2(row)\n",
    "z # CORRECT!"
   ]
  }
 ],
 "metadata": {
  "kernelspec": {
   "display_name": "base",
   "language": "python",
   "name": "python3"
  },
  "language_info": {
   "codemirror_mode": {
    "name": "ipython",
    "version": 3
   },
   "file_extension": ".py",
   "mimetype": "text/x-python",
   "name": "python",
   "nbconvert_exporter": "python",
   "pygments_lexer": "ipython3",
   "version": "3.9.13"
  }
 },
 "nbformat": 4,
 "nbformat_minor": 2
}
